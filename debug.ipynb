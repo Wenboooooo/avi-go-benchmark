{
 "cells": [
  {
   "cell_type": "code",
   "execution_count": 1,
   "metadata": {},
   "outputs": [],
   "source": [
    "from utils import *\n",
    "import random"
   ]
  },
  {
   "cell_type": "code",
   "execution_count": null,
   "metadata": {},
   "outputs": [],
   "source": [
    "data = json.load(open(\"synthetic_data/1-4.json\"))"
   ]
  },
  {
   "cell_type": "code",
   "execution_count": null,
   "metadata": {},
   "outputs": [],
   "source": [
    "data = json.load(open(\"synthetic_data/1-6.json\"))"
   ]
  },
  {
   "cell_type": "code",
   "execution_count": null,
   "metadata": {},
   "outputs": [],
   "source": [
    "line = data[11]\n",
    "actual_answer = gpt4o_generate(line['Q'], is_print=False)\n",
    "is_correct = LLM_judge(line['Q'], line['A'], actual_answer, is_print=True)\n",
    "# score = LLM_score(line['Q'], line['A'], actual_answer, is_print=True)"
   ]
  },
  {
   "cell_type": "code",
   "execution_count": 2,
   "metadata": {},
   "outputs": [],
   "source": [
    "import os\n",
    "from os import path as osp\n",
    "\n",
    "data_files = [osp.join(\"synthetic_data\", f) for f in os.listdir(\"synthetic_data\") if f.endswith(\".json\")]\n",
    "\n",
    "data = [json.load(open(f)) for f in data_files]"
   ]
  },
  {
   "cell_type": "code",
   "execution_count": 6,
   "metadata": {},
   "outputs": [
    {
     "name": "stdout",
     "output_type": "stream",
     "text": [
      "19347\n",
      "191\n",
      "13083\n",
      "907\n",
      "7494\n",
      "3705\n",
      "881\n",
      "515\n",
      "167\n",
      "191\n",
      "3422\n",
      "19347\n"
     ]
    }
   ],
   "source": [
    "count = 0\n",
    "for _ in data:\n",
    "    print(len(_))\n",
    "    count += len(_)\n"
   ]
  },
  {
   "cell_type": "code",
   "execution_count": 5,
   "metadata": {},
   "outputs": [
    {
     "data": {
      "text/plain": [
       "5770.833333333333"
      ]
     },
     "execution_count": 5,
     "metadata": {},
     "output_type": "execute_result"
    }
   ],
   "source": [
    "count / len(data)"
   ]
  }
 ],
 "metadata": {
  "kernelspec": {
   "display_name": "base",
   "language": "python",
   "name": "python3"
  },
  "language_info": {
   "codemirror_mode": {
    "name": "ipython",
    "version": 3
   },
   "file_extension": ".py",
   "mimetype": "text/x-python",
   "name": "python",
   "nbconvert_exporter": "python",
   "pygments_lexer": "ipython3",
   "version": "3.13.0"
  }
 },
 "nbformat": 4,
 "nbformat_minor": 2
}
