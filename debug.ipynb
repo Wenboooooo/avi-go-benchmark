{
 "cells": [
  {
   "cell_type": "code",
   "execution_count": null,
   "metadata": {},
   "outputs": [],
   "source": [
    "from utils import *\n",
    "import random"
   ]
  },
  {
   "cell_type": "code",
   "execution_count": null,
   "metadata": {},
   "outputs": [],
   "source": [
    "data = json.load(open(\"synthetic_data/1-4.json\"))"
   ]
  },
  {
   "cell_type": "code",
   "execution_count": null,
   "metadata": {},
   "outputs": [],
   "source": [
    "data = json.load(open(\"synthetic_data/1-6.json\"))"
   ]
  },
  {
   "cell_type": "code",
   "execution_count": null,
   "metadata": {},
   "outputs": [],
   "source": [
    "line = data[11]\n",
    "actual_answer = gpt4o_generate(line['Q'], is_print=False)\n",
    "is_correct = LLM_judge(line['Q'], line['A'], actual_answer, is_print=True)\n",
    "# score = LLM_score(line['Q'], line['A'], actual_answer, is_print=True)"
   ]
  },
  {
   "cell_type": "code",
   "execution_count": null,
   "metadata": {},
   "outputs": [],
   "source": [
    "import os\n",
    "from os import path as osp\n",
    "\n",
    "data_files = [osp.join(\"synthetic_data\", f) for f in os.listdir(\"synthetic_data\") if f.endswith(\".json\")]\n",
    "\n",
    "data = [json.load(open(f)) for f in data_files]"
   ]
  },
  {
   "cell_type": "code",
   "execution_count": null,
   "metadata": {},
   "outputs": [],
   "source": [
    "count = 0\n",
    "for _ in data:\n",
    "    print(len(_))\n",
    "    count += len(_)\n"
   ]
  },
  {
   "cell_type": "code",
   "execution_count": null,
   "metadata": {},
   "outputs": [],
   "source": [
    "count / len(data)"
   ]
  },
  {
   "cell_type": "code",
   "execution_count": null,
   "metadata": {},
   "outputs": [],
   "source": [
    "import json\n",
    "import os\n",
    "from os import path as osp\n",
    "import re\n",
    "\n",
    "data_dir = \"synthetic_data\"\n",
    "data_files = [f for f in os.listdir(\"synthetic_data\") if f.endswith(\".json\")]\n",
    "\n",
    "# data_file = \"1-21.json\"\n",
    "# data = json.load(open(f\"synthetic_data/{data_file}\"))\n",
    "\n",
    "for data_file in data_files:\n",
    "    data = json.load(open(osp.join(data_dir, data_file)))\n",
    "\n",
    "    for line in data:\n",
    "        tmp = line['SQL']\n",
    "        line['SQL'] = line['SQL'].replace(\" COLLATE utf8mb4_general_ci\", \"\").replace(\" COLLATE utf8mb4_0900_ai_ci\", \"\").replace(\"ai_database_dev.\", \"\").replace(\"avigo_nlp_dev.\", \"\")\n",
    "        line['SQL'] = line['SQL'].replace(\" COLLATE utf8mb4_unicode_ci\", \"\")\n",
    "        pattern = re.compile(r'GROUP_CONCAT\\s*\\(\\s*DISTINCT\\s+([^)]+)\\s*\\)', re.IGNORECASE)\n",
    "        \n",
    "        def replace_group_concat(match):\n",
    "            expression = match.group(1).strip()\n",
    "            return f\"CONCAT_WS(',', COLLECT_SET({expression}))\"\n",
    "\n",
    "        line['SQL'] = pattern.sub(replace_group_concat, line['SQL'])\n",
    "        \n",
    "        if line['SQL'] == tmp:\n",
    "            print(data_file)\n",
    "            break\n",
    "        # line['SQL'] = line['SQL'].strip()[:-1] + ' LIMIT 1;'\n",
    "    else:\n",
    "        with open(os.path.join(\"synthetic_data_clean\", data_file), \"w\") as f:\n",
    "            json.dump(data, f, indent=4, ensure_ascii=False)\n"
   ]
  },
  {
   "cell_type": "code",
   "execution_count": null,
   "metadata": {},
   "outputs": [],
   "source": [
    "# data_file = \"3-3.json\"\n",
    "data = json.load(open(f\"synthetic_data_clean/{data_file}\"))\n",
    "\n",
    "for line in data:\n",
    "    line['SQL'] = line['SQL'].replace(\"GROUP_CONCAT(DISTINCT a.pure_reg)\", \"CONCAT_WS(',', COLLECT_SET(a.pure_reg))\")"
   ]
  },
  {
   "cell_type": "code",
   "execution_count": null,
   "metadata": {},
   "outputs": [],
   "source": [
    "data_file = \"3-21.json\"\n",
    "data = json.load(open(f\"synthetic_data_clean/{data_file}\"))\n",
    "for line in data:\n",
    "    line['SQL'] = line['SQL'].replace(\"GROUP_CONCAT(distinct b.aircraft_model)\", \"CONCAT_WS(',', COLLECT_SET(b.aircraft_model))\")"
   ]
  },
  {
   "cell_type": "code",
   "execution_count": null,
   "metadata": {},
   "outputs": [],
   "source": [
    "with open(f\"synthetic_data_clean/{data_file}\", \"w\") as f:\n",
    "    json.dump(data, f, indent=4, ensure_ascii=False)"
   ]
  },
  {
   "cell_type": "code",
   "execution_count": null,
   "metadata": {},
   "outputs": [],
   "source": [
    "a = '''SELECT\\n        a.date_month,\\n        count(*) as num\\nFROM\\n        zts_plane_flight_1 a\\n        JOIN aircraft_details b ON a.pure_reg = b.pure_reg\\nWHERE\\n        b.supplier_id = \\\"1001\\\"\\n        AND a.date_month BETWEEN '2024-01'\\n        AND '2024-12'\\nGROUP BY\\n        a.date_month\\nORDER BY\\n        num DESC\\n        LIMIT 1;'''\n",
    "print(a)"
   ]
  },
  {
   "cell_type": "code",
   "execution_count": null,
   "metadata": {},
   "outputs": [],
   "source": [
    "from pyspark.sql import SparkSession\n",
    "\n",
    "# 创建 SparkSession\n",
    "spark = SparkSession.builder \\\n",
    "    .appName(\"SQL Join on Multiple Tables\") \\\n",
    "    .getOrCreate()\n",
    "\n",
    "# 1. 分别读取 4 张表\n",
    "table_aircraft_details = spark.read.format(\"csv\") \\\n",
    "    .option(\"header\", \"true\") \\\n",
    "    .option(\"inferSchema\", \"true\") \\\n",
    "    .load(\"database/aircraft_details.csv\")\n",
    "\n",
    "table_airport_fbo_details = spark.read.format(\"csv\") \\\n",
    "    .option(\"header\", \"true\") \\\n",
    "    .option(\"inferSchema\", \"true\") \\\n",
    "    .load(\"database/airport_fbo_details.csv\")\n",
    "\n",
    "table_supplier_details = spark.read.format(\"csv\") \\\n",
    "    .option(\"header\", \"true\") \\\n",
    "    .option(\"inferSchema\", \"true\") \\\n",
    "    .load(\"database/supplier_details.csv\")\n",
    "\n",
    "table_zts_plane_flight = spark.read.format(\"csv\") \\\n",
    "    .option(\"header\", \"true\") \\\n",
    "    .option(\"inferSchema\", \"true\") \\\n",
    "    .load(\"database/zts_plane_flight.csv\")\n",
    "\n",
    "table_zts_plane_flight_1 = spark.read.format(\"csv\") \\\n",
    "    .option(\"header\", \"true\") \\\n",
    "    .option(\"inferSchema\", \"true\") \\\n",
    "    .load(\"database/zts_plane_flight_1.csv\")\n",
    "\n",
    "table_zts_plane_flight_2 = spark.read.format(\"csv\") \\\n",
    "    .option(\"header\", \"true\") \\\n",
    "    .option(\"inferSchema\", \"true\") \\\n",
    "    .load(\"database/zts_plane_flight_2.csv\")\n",
    "\n",
    "table_ai_target_jet = spark.read.format(\"csv\") \\\n",
    "    .option(\"header\", \"true\") \\\n",
    "    .option(\"inferSchema\", \"true\") \\\n",
    "    .load(\"database/ai_target_jet.csv\")\n",
    "\n",
    "table_dc_airport = spark.read.format(\"csv\") \\\n",
    "    .option(\"header\", \"true\") \\\n",
    "    .option(\"inferSchema\", \"true\") \\\n",
    "    .load(\"database/dc_airport.csv\")\n",
    "\n",
    "table_zts_plane_status = spark.read.format(\"csv\") \\\n",
    "    .option(\"header\", \"true\") \\\n",
    "    .option(\"inferSchema\", \"true\") \\\n",
    "    .load(\"database/zts_plane_status.csv\")\n",
    "\n",
    "table_dc_aircraft = spark.read.format(\"csv\") \\\n",
    "    .option(\"header\", \"true\") \\\n",
    "    .option(\"inferSchema\", \"true\") \\\n",
    "    .load(\"database/dc_aircraft.csv\")\n",
    "\n",
    "table_dc_aircraft_model = spark.read.format(\"csv\") \\\n",
    "    .option(\"header\", \"true\") \\\n",
    "    .option(\"inferSchema\", \"true\") \\\n",
    "    .load(\"database/dc_aircraft_model.csv\")\n",
    "\n",
    "\n",
    "# 2. 注册为临时视图\n",
    "table_aircraft_details.createOrReplaceTempView(\"aircraft_details\")\n",
    "table_airport_fbo_details.createOrReplaceTempView(\"airport_fbo_details\")\n",
    "table_supplier_details.createOrReplaceTempView(\"supplier_details\")\n",
    "table_zts_plane_flight.createOrReplaceTempView(\"zts_plane_flight\")\n",
    "table_zts_plane_flight_1.createOrReplaceTempView(\"zts_plane_flight_1\")\n",
    "table_zts_plane_flight_2.createOrReplaceTempView(\"zts_plane_flight_2\")\n",
    "table_ai_target_jet.createOrReplaceTempView(\"ai_target_jet\")\n",
    "table_dc_airport.createOrReplaceTempView(\"dc_airport\")\n",
    "table_zts_plane_status.createOrReplaceTempView(\"zts_plane_status\")\n",
    "table_dc_aircraft.createOrReplaceTempView(\"dc_aircraft\")\n",
    "table_dc_aircraft_model.createOrReplaceTempView(\"dc_aircraft_model\")\n"
   ]
  },
  {
   "cell_type": "code",
   "execution_count": null,
   "metadata": {},
   "outputs": [],
   "source": [
    "import os\n",
    "print(\"SPARK_HOME:\", os.environ.get('SPARK_HOME'))\n",
    "print(\"PATH:\", os.environ.get('PATH'))\n"
   ]
  },
  {
   "cell_type": "code",
   "execution_count": null,
   "metadata": {},
   "outputs": [],
   "source": [
    "data_files = [osp.join(\"synthetic_data_clean\", f) for f in os.listdir(\"synthetic_data_clean\") if f.endswith(\".json\")]\n",
    "tmp = [osp.join(\"synthetic_data\", f) for f in os.listdir(\"synthetic_data\") if f.endswith(\".json\") and f not in [f.split(\"/\")[-1] for f in data_files]]\n",
    "for data_file in data_files:\n",
    "    print(data_file)\n",
    "    data = json.load(open(data_file))\n",
    "    a = data[0]['SQL']\n",
    "    sql = a\n",
    "    result = spark.sql(sql)\n",
    "    result.show()"
   ]
  },
  {
   "cell_type": "code",
   "execution_count": null,
   "metadata": {},
   "outputs": [],
   "source": [
    "connection = SparkSession.builder.appName(\"SQL Join on Multiple Tables\").getOrCreate()\n",
    "for file in (\"aircraft_details.csv\", \"airport_fbo_details.csv\", \"supplier_details.csv\", \"zts_plane_flight.csv\", \"zts_plane_flight_1.csv\", \"zts_plane_flight_2.csv\", \"ai_target_jet.csv\", \"dc_airport.csv\", \"zts_plane_status.csv\", \"dc_aircraft.csv\", \"dc_aircraft_model.csv\"):\n",
    "        view_name = file.rsplit('.', 1)[0]\n",
    "        df = connection.read.format(\"csv\").option(\"header\", \"true\").option(\"inferSchema\", \"true\").load(f\"database/{file}\")\n",
    "        df.createOrReplaceTempView(view_name)"
   ]
  },
  {
   "cell_type": "code",
   "execution_count": null,
   "metadata": {},
   "outputs": [],
   "source": [
    "sql = '''\n",
    "WITH biao_1 AS (\n",
    "        SELECT\n",
    "                a.date_month AS date_month,\n",
    "                COUNT(*) AS dep_count\n",
    "        FROM\n",
    "                zts_plane_flight_1 a\n",
    "                JOIN ai_target_jet b ON a.pure_reg = b.pure_reg\n",
    "        WHERE\n",
    "                a.dep_icao = \"ZSSS\"\n",
    "                AND a.date_month BETWEEN '2023-12'\n",
    "                AND '2024-12'\n",
    "        GROUP BY\n",
    "                a.date_month\n",
    "        ),\n",
    "        biao_2 AS (\n",
    "        SELECT\n",
    "                a.date_month AS date_month,\n",
    "                COUNT(*) AS arr_count\n",
    "        FROM\n",
    "                zts_plane_flight_1 a\n",
    "                JOIN ai_target_jet b ON a.pure_reg = b.pure_reg\n",
    "        WHERE\n",
    "                a.arr_icao = \"ZSSS\"\n",
    "                AND a.date_month BETWEEN '2023-12'\n",
    "                AND '2024-12'\n",
    "        GROUP BY\n",
    "                a.date_month\n",
    "        ),\n",
    "        biao_3 AS (\n",
    "        SELECT\n",
    "                a.date_month,\n",
    "                ( a.dep_count + b.arr_count ) AS num\n",
    "        FROM\n",
    "                biao_1 a\n",
    "                JOIN biao_2 b ON a.date_month = b.date_month\n",
    "        ),\n",
    "        biao_4 AS ( SELECT date_month, num, lag( num ) over ( ORDER BY date_month ) AS last_num FROM biao_3 ) \n",
    "SELECT\n",
    "        date_month,\n",
    "        num,\n",
    "        last_num,\n",
    "        concat( round(( num - last_num )/ last_num * 100, 2 ), '%' ) AS rate\n",
    "FROM\n",
    "        biao_4\n",
    "WHERE\n",
    "        last_num IS NOT NULL;'''"
   ]
  },
  {
   "cell_type": "code",
   "execution_count": null,
   "metadata": {},
   "outputs": [],
   "source": [
    "result_sql = spark.sql(sql)\n",
    "result_sql.show()"
   ]
  },
  {
   "cell_type": "code",
   "execution_count": null,
   "metadata": {},
   "outputs": [],
   "source": [
    "import pandas as pd\n",
    "df = pd.read_csv(\"database/zts_plane_flight_1.csv\", nrows=100)"
   ]
  },
  {
   "cell_type": "code",
   "execution_count": null,
   "metadata": {},
   "outputs": [],
   "source": [
    "df.head()"
   ]
  },
  {
   "cell_type": "code",
   "execution_count": null,
   "metadata": {},
   "outputs": [],
   "source": [
    "def get_query_category(query):\n",
    "    know_sql_queries = [\n",
    "        '列出2023年每月飞行次数最多的前10个机场，以及每个机场的起降航班数量。',\n",
    "        '28 De Noviembre机场在2024年各月的飞行量（起降一起），并提供2024年每个月环比上一个月的增长率。（2024年1月环比2023年12月）',\n",
    "        '展示所有在17th Of September起降的航司、飞机，以及其对应的航线。',\n",
    "        '总结在17th Of September的所有航班中，最常使用的前三飞机型号及其座位数（取区间）。',\n",
    "        '列出在Jamestown中，使用频率最高的前5公务机及其航班数。',\n",
    "        'Aalborg Airport机场的四字码是什么？',\n",
    "        '查询在16 L Ranch停场的所有公务机及其注册号',\n",
    "        '24/7 Jet Inc.在2024年哪个月份的飞行量最大？该月的总航班数量是多少？',\n",
    "        '请提供注册号为n829dl的飞机在2024年每个月的飞行量是多少？按月份排序。',\n",
    "        '比较24/7 Jet Inc.在2024年在第1季度与第2季度的总飞行量及变化百分比。',\n",
    "        '从Jamestown到Niue Island，哪些机型可以直飞？',\n",
    "        '24/7 Jet Inc.在2024年每个月的飞行量是多少？按从大到小排列。',\n",
    "        '24/7 Jet Inc.在2024年运营的航线中，前五条最繁忙的航线及其飞行次数是多少？',\n",
    "        '展示2023-2024年中，Aircraft Services Group Inc.在St.Louis Lambert International Airport的航班数量及主要使用的飞机型号。',\n",
    "        'Embraer Phenom 300机型的最大飞行距离是多少？',\n",
    "        'A Coruna有哪些机场？请给出机场名称和对应的四字码。',\n",
    "        '2024年247 Aviation Ltd在Europe地区的每月总飞行量是多少？提供环比变化。',\n",
    "        '24/7 Jet Inc.航司的总部位于哪个城市？',\n",
    "        'Embraer Phenom 300的起飞重量是多少？',\n",
    "        '列出2024年各月使用最多的前五个飞机型号，并提供环比变化。',\n",
    "        '提供2024年每月各个国家的飞行量及其环比增长或下降百分比。',\n",
    "        'Embraer Phenom 300的翼展是多少？',\n",
    "        'Aalborg Airport机场的三字码是什么？',\n",
    "        '列出2023年每月飞行次数最多的前10个的国家，并提供环比变化。',\n",
    "        '飞机注册号为5N-CAB的飞机是哪一家公司的？',\n",
    "        '24/7 Jet Inc.航司的官网链接是什么？',\n",
    "        '列出注册号为9hxoa的飞机在2024年所有航班的详细信息。',\n",
    "        'Los Angeles的航空公司有哪些？',\n",
    "        '24/7 Jet Inc.的航班总量在2024年每个月的变化趋势如何？',\n",
    "        '查询所有在17th Of September起降的航班，并找出最常用的飞机型号。',\n",
    "        '在2024年24/7 Jet Inc.的前五大目的地国家（按航班量排序）有哪些？',\n",
    "        '提供2024年每月24/7 Jet Inc.的各机型平均飞行小时数。',\n",
    "        'Embraer Phenom 300机型的机身长度是多少？',\n",
    "        'Embraer Phenom 300机型的座位数是多少？',\n",
    "        '注册号为5N-CAB的飞机的制造年份是什么？',\n",
    "        '列出2024年01月到07月的飞行量增幅最大？提供增幅百分比。',\n",
    "        '24/7 Jet Inc.最繁忙的前10架飞机在2024年每个月的飞行量分别是多少？按注册号排序。',\n",
    "        '24/7 Jet Inc.在2024年每个月飞往United States的航班数量是怎样的？请按环比变化排序。',\n",
    "        '5N-CAB的制造商是谁？',\n",
    "        '哪些地区的飞行量在2024年的01月到06月显著增长？',\n",
    "        'Embraer Phenom 300的最大载客量是多少？',\n",
    "        '分析Jamestown中，各机场的航班量，并找出排名前三的机场。',\n",
    "        'Embraer Phenom 300机型在2024年每个月的飞行量变化如何？',\n",
    "        'Fleet information of 24/7 Jet Inc.？',\n",
    "        '列出Acadiana Regl在2024年每个月的起降航班数量，并提供环比增幅。',\n",
    "        '列出2023年各月飞行量增幅最大的地区，并提供环比增幅。',\n",
    "        '停场在Abraham Lincoln Capital Airport的所有航司有哪些？',\n",
    "        'Aalborg Airport机场在哪个国家哪个城市？请按照先国家后城市的顺序输出。',\n",
    "        '24/7 Jet Inc.在2024年每个月各机型的平均飞行小时数分别是多少？',\n",
    "        '24/7 Jet Inc.在过去的2024年飞行量变化趋势如何？是否有显著的增减？',\n",
    "        'Embraer Phenom 300的飞行高度范围是多少？',\n",
    "        '从Xinjiang到Ili，按照飞行次数推荐排名最靠前的航司？',\n",
    "        '列出2024年飞行量最多的机型及每月变化情况。'\n",
    "    ]\n",
    "    \n",
    "    prompt = f'''请判断以下问题是哪个种类的查询，你需要在“SQL查询问题”和“开放性问题”中选择一个。如果是“SQL”查询问题，请输出“0”，如果是“开放性问题”，请输出“1”。\\n\\n现在已知的SQL查询问题有：\\n{\"\\n\".join(know_sql_queries)}\\n\\n问题：空腿调机是什么？\\n种类：1\\n\\n问题：展示2023-2024年中，Aircraft Services Group Inc.在St.Louis Lambert International Airport的航班数量及主要使用的飞机型号。\\n种类：0\\n\\n问题：Los Angeles的航空公司有哪些？\\n种类：0\\nAalborg Airport机场的四字码是什么？\\n种类：0\\n\\n问题：除冰费是什么？在什么情况下会产生此费用？\\n种类：1\\n\\n问题：{query}\\n种类：'''\n",
    "    print(prompt)\n",
    "    res = LLM_generate(prompt).strip()\n",
    "    print(res)\n",
    "    if '0' == res[0] or '0' == res[-1]:\n",
    "        return 0\n",
    "    else:\n",
    "        return 1"
   ]
  },
  {
   "cell_type": "code",
   "execution_count": null,
   "metadata": {},
   "outputs": [],
   "source": [
    "a = get_query_category(\"最近中国的航班入境政策有哪些更新？\")\n",
    "print(a)"
   ]
  },
  {
   "cell_type": "code",
   "execution_count": null,
   "metadata": {},
   "outputs": [],
   "source": [
    "import json\n",
    "import os\n",
    "from os import path as osp\n",
    "import re\n",
    "import time\n",
    "data_files = [osp.join(\"synthetic_data_clean\", f) for f in os.listdir(\"synthetic_data_clean\") if f.endswith(\".json\")]\n",
    "questions = []\n",
    "for data_file in data_files:\n",
    "    # print(data_file)\n",
    "    data = json.load(open(data_file))\n",
    "    start = time.time()\n",
    "    questions.append(data[0]['Q'])\n",
    "    # a = get_query_category(data[0]['Q'])\n",
    "    end = time.time()\n",
    "    print(end - start)\n",
    "    print(a)"
   ]
  },
  {
   "cell_type": "code",
   "execution_count": null,
   "metadata": {},
   "outputs": [],
   "source": [
    "questions"
   ]
  }
 ],
 "metadata": {
  "kernelspec": {
   "display_name": "base",
   "language": "python",
   "name": "python3"
  },
  "language_info": {
   "codemirror_mode": {
    "name": "ipython",
    "version": 3
   },
   "file_extension": ".py",
   "mimetype": "text/x-python",
   "name": "python",
   "nbconvert_exporter": "python",
   "pygments_lexer": "ipython3",
   "version": "3.12.0"
  }
 },
 "nbformat": 4,
 "nbformat_minor": 2
}
