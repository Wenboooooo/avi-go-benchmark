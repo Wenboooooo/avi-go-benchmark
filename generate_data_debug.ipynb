{
 "cells": [
  {
   "cell_type": "code",
   "metadata": {},
   "source": [
    "# 城市名称\n",
    "# 机场名称\n",
    "# 航司名称\n",
    "# 飞机型号\n",
    "# 飞机注册号"
   ],
   "outputs": [],
   "execution_count": null
  },
  {
   "cell_type": "code",
   "metadata": {
    "ExecuteTime": {
     "end_time": "2024-11-22T09:07:54.764318Z",
     "start_time": "2024-11-22T09:07:54.386745Z"
    }
   },
   "source": [
    "from utils import *\n",
    "import pandas as pd\n",
    "from tqdm import tqdm\n",
    "from Q_templates import Q_templates\n",
    "import json"
   ],
   "outputs": [],
   "execution_count": 1
  },
  {
   "cell_type": "code",
   "metadata": {
    "ExecuteTime": {
     "end_time": "2024-11-22T09:08:00.478006Z",
     "start_time": "2024-11-22T09:07:59.660890Z"
    }
   },
   "source": [
    "connection = connect_to_database(\"ai_database_dev\")\n",
    "cursor = connection.cursor()"
   ],
   "outputs": [],
   "execution_count": 2
  },
  {
   "metadata": {
    "ExecuteTime": {
     "end_time": "2024-11-22T09:08:01.361176Z",
     "start_time": "2024-11-22T09:08:01.076724Z"
    }
   },
   "cell_type": "code",
   "source": [
    "connection1 = connect_to_database(\"data_center_dev\")\n",
    "cursor1 = connection1.cursor()"
   ],
   "outputs": [],
   "execution_count": 3
  },
  {
   "metadata": {
    "ExecuteTime": {
     "end_time": "2024-11-22T09:08:02.437952Z",
     "start_time": "2024-11-22T09:08:02.259620Z"
    }
   },
   "cell_type": "code",
   "source": [
    "connection2 = connect_to_database(\"data_center_release\")\n",
    "cursor2 = connection2.cursor()"
   ],
   "outputs": [],
   "execution_count": 4
  },
  {
   "metadata": {
    "ExecuteTime": {
     "end_time": "2024-11-22T09:08:12.171779Z",
     "start_time": "2024-11-22T09:08:12.163481Z"
    }
   },
   "cell_type": "code",
   "source": [
    "city_names_airport = [_.strip() for _ in open(\"meta_data/city_name_airport.txt\").readlines()]\n",
    "city_names_supplier = [_.strip() for _ in open(\"meta_data/city_name_supplier.txt\").readlines()]\n",
    "aircraft_registrations = [_.strip() for _ in open(\"meta_data/aircraft_registration.txt\").readlines()]\n",
    "aircraft_model_names = [_.strip() for _ in open(\"meta_data/aircraft_model_name.txt\").readlines()]\n",
    "supplier_names = [_.strip() for _ in open(\"meta_data/supplier_name.txt\").readlines()]\n",
    "airport_names = [_.strip() for _ in open(\"meta_data/airport_name.txt\").readlines()]"
   ],
   "outputs": [],
   "execution_count": 6
  },
  {
   "cell_type": "code",
   "metadata": {},
   "source": [
    "Q_template = \"{city_name}有哪些机场？请给出机场名称和对应的四字码。\"\n",
    "SQL_template = \\\n",
    "'''SELECT DISTINCT airport_name, icao_code FROM airport_fbo_details WHERE city_name = \"{}\";'''\n",
    "\n",
    "dataset = []\n",
    "\n",
    "for city_name in tqdm(city_names_airport):\n",
    "    Q = Q_template.replace(\"{city_name}\", city_name)\n",
    "    SQL = SQL_template.format(city_name)\n",
    "    cursor.execute(SQL)\n",
    "    A = pd.DataFrame(cursor.fetchall(), columns=[\"airport_name\", \"icao_code\"]).values.tolist()\n",
    "    if A:\n",
    "        A = [f\"机场：{_[0]}, 四字码：{_[1]}\" for _ in A]\n",
    "        dataset.append({\"Q\": Q, \"A\": A, \"SQL\": SQL})"
   ],
   "outputs": [],
   "execution_count": null
  },
  {
   "cell_type": "code",
   "metadata": {},
   "source": "",
   "outputs": [],
   "execution_count": null
  },
  {
   "cell_type": "code",
   "metadata": {},
   "source": [
    "# 一次性查询所有数据，避免每次循环单独查询\n",
    "SQL = 'SELECT DISTINCT city_name, airport_name, icao_code FROM airport_fbo_details;'\n",
    "cursor.execute(SQL)\n",
    "df = pd.DataFrame(cursor.fetchall(), columns=['city_name', 'airport_name', 'icao_code'])\n",
    "\n",
    "# 创建一个包含所有问题和答案的列表\n",
    "dataset = []\n",
    "for city_name in tqdm(city_names_airport):\n",
    "    # 过滤数据\n",
    "    airports = df[df['city_name'] == city_name]['airport_name'].tolist()\n",
    "    icao_codes = df[df['city_name'] == city_name]['icao_code'].tolist()\n",
    "    if airports:\n",
    "        Q = f\"{city_name}有哪些机场？请给出机场名称和对应的四字码。\"\n",
    "        SQL_query = f'SELECT DISTINCT airport_name, icao_code FROM airport_fbo_details WHERE city_name = \"{city_name}\";'\n",
    "        A = [f\"机场名称：{airport}, 四字码：{icao_code}\" for airport, icao_code in zip(airports, icao_codes)]\n",
    "        dataset.append({\"Q\": Q, \"A\": A, \"SQL\": SQL_query})\n",
    "\n",
    "import json\n",
    "with open(\"synthetic_data/1-4.json\", \"w\") as f:\n",
    "    json.dump(dataset, f, ensure_ascii=False, indent=4)\n"
   ],
   "outputs": [],
   "execution_count": null
  },
  {
   "cell_type": "code",
   "metadata": {},
   "source": [
    "Q_template = \"飞机注册号为{aircraft_registration}的飞机是哪一家公司的？\"\n",
    "SQL_template = \\\n",
    "'''SELECT sd.supplier_name\n",
    "FROM aircraft_details ad\n",
    "JOIN supplier_details sd ON ad.supplier_id = sd.supplier_id\n",
    "WHERE ad.registration = \"{}\";'''\n",
    "\n",
    "dataset = []\n",
    "\n",
    "for aircraft_registration in tqdm(aircraft_registrations):\n",
    "    Q = Q_template.replace(\"{aircraft_registration}\", aircraft_registration)\n",
    "    SQL = SQL_template.format(aircraft_registration)\n",
    "    cursor.execute(SQL)\n",
    "    A = pd.DataFrame(cursor.fetchall())[0].tolist()\n",
    "    if A:\n",
    "        dataset.append({\"Q\": Q, \"A\": A, \"SQL\": SQL})"
   ],
   "outputs": [],
   "execution_count": null
  },
  {
   "cell_type": "code",
   "metadata": {},
   "source": [
    "# 一次性查询所有数据，避免每次循环单独查询\n",
    "SQL = '''\n",
    "SELECT ad.registration, sd.supplier_name\n",
    "FROM aircraft_details ad\n",
    "JOIN supplier_details sd ON ad.supplier_id = sd.supplier_id;\n",
    "'''\n",
    "cursor.execute(SQL)\n",
    "df = pd.DataFrame(cursor.fetchall(), columns=['registration', 'supplier_name'])\n",
    "\n",
    "# 创建一个包含所有问题和答案的列表\n",
    "dataset = []\n",
    "for aircraft_registration in tqdm(aircraft_registrations):\n",
    "    # 过滤数据\n",
    "    supplier = df[df['registration'] == aircraft_registration]['supplier_name'].tolist()\n",
    "    if supplier:\n",
    "        supplier = supplier[0]\n",
    "        Q = f\"飞机注册号为{aircraft_registration}的飞机是哪一家公司的？\"\n",
    "        SQL_query = f'SELECT sd.supplier_name FROM aircraft_details ad JOIN supplier_details sd ON ad.supplier_id = sd.supplier_id WHERE ad.registration = \"{aircraft_registration}\";'\n",
    "        dataset.append({\"Q\": Q, \"A\": supplier, \"SQL\": SQL_query})\n",
    "\n",
    "with open(\"synthetic_data/1-5.json\", \"w\") as f:\n",
    "    json.dump(dataset, f, ensure_ascii=False, indent=4)\n"
   ],
   "outputs": [],
   "execution_count": null
  },
  {
   "cell_type": "code",
   "metadata": {},
   "source": [
    "city_names_supplier[190]"
   ],
   "outputs": [],
   "execution_count": null
  },
  {
   "cell_type": "code",
   "metadata": {},
   "source": [
    "Q_template = \"{city_name}的航空公司有哪些？\"\n",
    "SQL_template = \\\n",
    "'''SELECT supplier_name FROM supplier_details WHERE supplier_city_name = \"{}\";'''\n",
    "\n",
    "dataset = []\n",
    "\n",
    "for city_name in tqdm(city_names_supplier):\n",
    "    Q = Q_template.replace(\"{city_name}\", city_name)\n",
    "    SQL = SQL_template.format(city_name)\n",
    "    cursor.execute(SQL)\n",
    "    try:\n",
    "        A = pd.DataFrame(cursor.fetchall())[0].tolist()\n",
    "        if A:\n",
    "            dataset.append({\"Q\": Q, \"A\": A, \"SQL\": SQL})\n",
    "    except:\n",
    "        print(city_name)\n",
    "        print(A)\n",
    "        print(SQL)\n",
    "        continue\n",
    "\n",
    "with open(\"synthetic_data/1-6.json\", \"w\") as f:\n",
    "    json.dump(dataset, f, ensure_ascii=False, indent=4)"
   ],
   "outputs": [],
   "execution_count": null
  },
  {
   "metadata": {},
   "cell_type": "code",
   "source": [
    "Q_template = \"{aircraft_model_names}的最大载客量是多少？\"\n",
    "SQL_template = \\\n",
    "'''SELECT max(seat_num) FROM aircraft_details WHERE aircraft_model_name = \"{}\";'''\n",
    "\n",
    "dataset = []\n",
    "\n",
    "for aircraft_model_name in tqdm(aircraft_model_names):\n",
    "    Q = Q_template.replace(\"{aircraft_model_names}\", aircraft_model_name)\n",
    "    SQL = SQL_template.format(aircraft_model_name)\n",
    "    cursor.execute(SQL)\n",
    "    try:\n",
    "        A = pd.DataFrame(cursor.fetchall())[0].tolist()\n",
    "        if A:\n",
    "            dataset.append({\"Q\": Q, \"A\": A, \"SQL\": SQL})\n",
    "    except:\n",
    "        print(aircraft_model_name)\n",
    "        print(A)\n",
    "        print(SQL)\n",
    "        continue\n",
    "\n",
    "with open(\"synthetic_data/1-7.json\", \"w\") as f:\n",
    "    json.dump(dataset, f, ensure_ascii=False, indent=4)"
   ],
   "outputs": [],
   "execution_count": null
  },
  {
   "cell_type": "code",
   "metadata": {},
   "source": [
    "Q_template = \"{supplier_name}航司的总部位于哪个城市？\"\n",
    "SQL_template = \\\n",
    "'''SELECT supplier_city_name FROM supplier_details WHERE supplier_name = \"{}\";'''\n",
    "\n",
    "dataset = []\n",
    "\n",
    "for supplier_name in tqdm(supplier_names):\n",
    "    Q = Q_template.replace(\"{supplier_name}\", supplier_name)\n",
    "    SQL = SQL_template.format(supplier_name)\n",
    "    cursor.execute(SQL)\n",
    "    try:\n",
    "        A = pd.DataFrame(cursor.fetchall())[0].tolist()\n",
    "        if A:\n",
    "            dataset.append({\"Q\": Q, \"A\": A, \"SQL\": SQL})\n",
    "    except:\n",
    "        print(supplier_name)\n",
    "        print(A)\n",
    "        print(SQL)\n",
    "        continue\n",
    "\n",
    "with open(\"synthetic_data/1-8.json\", \"w\") as f:\n",
    "    json.dump(dataset, f, ensure_ascii=False, indent=4)"
   ],
   "outputs": [],
   "execution_count": null
  },
  {
   "cell_type": "code",
   "metadata": {},
   "source": [
    "# 一次性查询所有供应商及其所在城市的数据\n",
    "SQL = 'SELECT supplier_name, supplier_city_name FROM supplier_details;'\n",
    "cursor.execute(SQL)\n",
    "df = pd.DataFrame(cursor.fetchall(), columns=['supplier_name', 'supplier_city_name'])\n",
    "\n",
    "# 初始化数据集\n",
    "dataset = []\n",
    "\n",
    "# 构建问题和答案的字典\n",
    "for supplier_name in tqdm(supplier_names):\n",
    "    try:\n",
    "        # 在 DataFrame 中过滤出对应的城市\n",
    "        A = df[df['supplier_name'] == supplier_name]['supplier_city_name'].tolist()[0]\n",
    "        if A:\n",
    "            Q = f\"{supplier_name}航司的总部位于哪个城市？\"\n",
    "            SQL_query = f'SELECT supplier_city_name FROM supplier_details WHERE supplier_name = \"{supplier_name}\";'\n",
    "            dataset.append({\"Q\": Q, \"A\": A, \"SQL\": SQL_query})\n",
    "    except Exception as e:\n",
    "        print(f\"Error processing supplier: {supplier_name}, Error: {e}\")\n",
    "        continue\n",
    "\n",
    "# 将结果保存到文件\n",
    "output_path = \"synthetic_data/1-8.json\"\n",
    "with open(output_path, \"w\", encoding=\"utf-8\") as f:\n",
    "    json.dump(dataset, f, ensure_ascii=False, indent=4)\n",
    "\n",
    "print(f\"Data successfully saved to {output_path}\")\n"
   ],
   "outputs": [],
   "execution_count": null
  },
  {
   "cell_type": "code",
   "metadata": {},
   "source": [
    "# 问题和SQL查询的模板\n",
    "Q_template = \"{airport_name}机场的三字码是什么？\"\n",
    "SQL_template = '''SELECT iata_code FROM airport_fbo_details WHERE airport_name = \"{}\";'''\n",
    "\n",
    "# 一次性查询所有机场的名称和对应的三字码\n",
    "SQL = 'SELECT airport_name, iata_code FROM airport_fbo_details;'\n",
    "cursor.execute(SQL)\n",
    "df = pd.DataFrame(cursor.fetchall(), columns=['airport_name', 'iata_code'])\n",
    "\n",
    "# 初始化数据集\n",
    "dataset = []\n",
    "\n",
    "# 构建问题和答案的字典\n",
    "for airport_name in tqdm(airport_names):\n",
    "    try:\n",
    "    # 过滤出对应机场的三字\n",
    "        A = df[df['airport_name'] == airport_name]['iata_code'].tolist()[0]\n",
    "        if A:\n",
    "            Q = Q_template.format(airport_name=airport_name)\n",
    "            SQL_query = SQL_template.format(airport_name)\n",
    "            dataset.append({\"Q\": Q, \"A\": A, \"SQL\": SQL_query})\n",
    "    except Exception as e:\n",
    "        print(f\"Error processing airport: {airport_name}, Error: {e}\")\n",
    "        continue\n",
    "\n",
    "# 保存到文件\n",
    "with open('synthetic_data/1-9.json', \"w\", encoding=\"utf-8\") as f:\n",
    "    json.dump(dataset, f, ensure_ascii=False, indent=4)\n",
    "\n",
    "print(f\"Data successfully saved to {output_path}\")\n"
   ],
   "outputs": [],
   "execution_count": null
  },
  {
   "metadata": {
    "ExecuteTime": {
     "end_time": "2024-11-21T13:40:42.342202Z",
     "start_time": "2024-11-21T13:33:37.026690Z"
    }
   },
   "cell_type": "code",
   "source": [
    "Q_template = \"{aircraft_registration}的制造商是谁？\"\n",
    "SQL_template = '''SELECT brand_name FROM aircraft_details WHERE registration = \"{}\";'''\n",
    "\n",
    "# 初始化数据集\n",
    "dataset = []\n",
    "# 构建问题和答案的字典\n",
    "for aircraft_registration in tqdm(aircraft_registrations):\n",
    "    Q = Q_template.format(aircraft_registration=aircraft_registration)\n",
    "    SQL_query = SQL_template.format(aircraft_registration)\n",
    "    cursor.execute(SQL_query)\n",
    "    try:\n",
    "        A = pd.DataFrame(cursor.fetchall())[0].tolist()\n",
    "        if A:\n",
    "            dataset.append({\"Q\": Q, \"A\": A, \"SQL\": SQL_query})\n",
    "    except:\n",
    "        print(A)\n",
    "        # print(SQL)\n",
    "        continue\n",
    "\n",
    "# 保存到文件\n",
    "with open('synthetic_data/1-14.json', \"w\", encoding=\"utf-8\") as f:\n",
    "    json.dump(dataset, f, ensure_ascii=False, indent=4)\n"
   ],
   "outputs": [
    {
     "name": "stderr",
     "output_type": "stream",
     "text": [
      "100%|██████████| 3706/3706 [07:05<00:00,  8.71it/s]\n"
     ]
    }
   ],
   "execution_count": 11
  },
  {
   "metadata": {},
   "cell_type": "code",
   "source": [
    "Q_template = \"{aircraft_model_name}的翼展是多少？\"\n",
    "SQL_template = '''SELECT aircraft_width FROM dc_aircraft_model WHERE name = \"{}\" AND aircraft_width IS NOT NULL;'''\n",
    "\n",
    "# 初始化数据集\n",
    "dataset = []\n",
    "# 构建问题和答案的字典\n",
    "for aircraft_model_name in tqdm(aircraft_model_names):\n",
    "    Q = Q_template.format(aircraft_model_name=aircraft_model_name)\n",
    "    SQL_query = SQL_template.format(aircraft_model_name)\n",
    "    cursor1.execute(SQL_query)\n",
    "    try:\n",
    "        A = pd.DataFrame(cursor1.fetchall())[0].tolist()\n",
    "        if A:\n",
    "            dataset.append({\"Q\": Q, \"A\": A, \"SQL\": SQL_query})\n",
    "    except:\n",
    "        print(A)\n",
    "        # print(SQL)\n",
    "        continue\n",
    "\n",
    "# 保存到文件\n",
    "with open('synthetic_data/1-20.json', \"w\", encoding=\"utf-8\") as f:\n",
    "    json.dump(dataset, f, ensure_ascii=False, indent=4)"
   ],
   "outputs": [],
   "execution_count": null
  },
  {
   "metadata": {},
   "cell_type": "code",
   "source": [
    "Q_template = \"{aircraft_model_name}的起飞重量是多少？\"\n",
    "SQL_template = '''SELECT max_takeoff_weight FROM dc_aircraft_model WHERE name = \"{}\" AND max_takeoff_weight IS NOT NULL;  '''\n",
    "\n",
    "# 初始化数据集\n",
    "dataset = []\n",
    "# 构建问题和答案的字典\n",
    "for aircraft_model_name in tqdm(aircraft_model_names):\n",
    "    Q = Q_template.format(aircraft_model_name=aircraft_model_name)\n",
    "    SQL_query = SQL_template.format(aircraft_model_name)\n",
    "    cursor1.execute(SQL_query)\n",
    "    try:\n",
    "        A = pd.DataFrame(cursor1.fetchall())[0].tolist()\n",
    "        if A:\n",
    "            dataset.append({\"Q\": Q, \"A\": A, \"SQL\": SQL_query})\n",
    "    except Exception as e:\n",
    "        print(A)\n",
    "        print(e)\n",
    "        # print(SQL)\n",
    "        continue\n",
    "\n",
    "# 保存到文件\n",
    "with open('synthetic_data/1-21.json', \"w\", encoding=\"utf-8\") as f:\n",
    "    json.dump(dataset, f, ensure_ascii=False, indent=4)"
   ],
   "outputs": [],
   "execution_count": null
  },
  {
   "metadata": {
    "ExecuteTime": {
     "end_time": "2024-11-22T09:10:45.749713Z",
     "start_time": "2024-11-22T09:10:37.281115Z"
    }
   },
   "cell_type": "code",
   "source": [
    "Q_template = \"{aircraft_model_name}属于哪种机型类型（如远程、小飞机）？\"\n",
    "SQL_template = '''SELECT aircraft_type_match.aircraft_type FROM aircraft_type_match INNER JOIN dc_aircraft_model ON aircraft_type_match.`code` = dc_aircraft_model.aircraft_type WHERE name = \"{}\" LIMIT 1;\n",
    "'''\n",
    "\n",
    "# 初始化数据集\n",
    "dataset = []\n",
    "# 构建问题和答案的字典\n",
    "for aircraft_model_name in tqdm(aircraft_model_names):\n",
    "    Q = Q_template.format(aircraft_model_name=aircraft_model_name)\n",
    "    SQL_query = SQL_template.format(aircraft_model_name)\n",
    "    cursor2.execute(SQL_query)\n",
    "    try:\n",
    "        A = pd.DataFrame(cursor2.fetchall())[0].tolist()\n",
    "        if A:\n",
    "            dataset.append({\"Q\": Q, \"A\": A, \"SQL\": SQL_query})\n",
    "    except:\n",
    "        print(A)\n",
    "        # print(SQL)\n",
    "        continue\n",
    "\n",
    "# 保存到文件\n",
    "with open('synthetic_data/1-23.json', \"w\", encoding=\"utf-8\") as f:\n",
    "    json.dump(dataset, f, ensure_ascii=False, indent=4)"
   ],
   "outputs": [
    {
     "name": "stderr",
     "output_type": "stream",
     "text": [
      "100%|██████████| 191/191 [00:08<00:00, 22.58it/s]\n"
     ]
    }
   ],
   "execution_count": 8
  },
  {
   "metadata": {
    "ExecuteTime": {
     "end_time": "2024-11-22T09:16:47.365318Z",
     "start_time": "2024-11-22T09:16:39.161542Z"
    }
   },
   "cell_type": "code",
   "source": [
    "Q_template = \"{aircraft_model_name}的飞行高度范围是多少？\"\n",
    "SQL_template = '''SELECT certified_ceiling FROM dc_aircraft_model WHERE name = \"{}\" AND certified_ceiling IS NOT NULL LIMIT 1;'''\n",
    "\n",
    "# 初始化数据集\n",
    "dataset = []\n",
    "# 构建问题和答案的字典\n",
    "for aircraft_model_name in tqdm(aircraft_model_names):\n",
    "    Q = Q_template.format(aircraft_model_name=aircraft_model_name)\n",
    "    SQL_query = SQL_template.format(aircraft_model_name)\n",
    "    cursor2.execute(SQL_query)\n",
    "    try:\n",
    "        A = pd.DataFrame(cursor2.fetchall())[0].tolist()\n",
    "        if A:\n",
    "            dataset.append({\"Q\": Q, \"A\": A, \"SQL\": SQL_query})\n",
    "    except:\n",
    "        print(A)\n",
    "        # print(SQL)\n",
    "        continue\n",
    "\n",
    "# 保存到文件\n",
    "with open('synthetic_data/1-24.json', \"w\", encoding=\"utf-8\") as f:\n",
    "    json.dump(dataset, f, ensure_ascii=False, indent=4)"
   ],
   "outputs": [
    {
     "name": "stderr",
     "output_type": "stream",
     "text": [
      " 13%|█▎        | 24/191 [00:01<00:07, 23.20it/s]"
     ]
    },
    {
     "name": "stdout",
     "output_type": "stream",
     "text": [
      "[15545.0]\n"
     ]
    },
    {
     "name": "stderr",
     "output_type": "stream",
     "text": [
      " 17%|█▋        | 33/191 [00:01<00:06, 23.31it/s]"
     ]
    },
    {
     "name": "stdout",
     "output_type": "stream",
     "text": [
      "[13716.0]\n"
     ]
    },
    {
     "name": "stderr",
     "output_type": "stream",
     "text": [
      " 22%|██▏       | 42/191 [00:01<00:06, 23.45it/s]"
     ]
    },
    {
     "name": "stdout",
     "output_type": "stream",
     "text": [
      "[10668.0]\n"
     ]
    },
    {
     "name": "stderr",
     "output_type": "stream",
     "text": [
      " 31%|███▏      | 60/191 [00:02<00:05, 23.39it/s]"
     ]
    },
    {
     "name": "stdout",
     "output_type": "stream",
     "text": [
      "[13716.0]\n"
     ]
    },
    {
     "name": "stderr",
     "output_type": "stream",
     "text": [
      " 42%|████▏     | 81/191 [00:03<00:04, 23.25it/s]"
     ]
    },
    {
     "name": "stdout",
     "output_type": "stream",
     "text": [
      "[15545.0]\n"
     ]
    },
    {
     "name": "stderr",
     "output_type": "stream",
     "text": [
      " 53%|█████▎    | 102/191 [00:04<00:03, 23.32it/s]"
     ]
    },
    {
     "name": "stdout",
     "output_type": "stream",
     "text": [
      "[13716.0]\n"
     ]
    },
    {
     "name": "stderr",
     "output_type": "stream",
     "text": [
      " 58%|█████▊    | 111/191 [00:04<00:03, 23.26it/s]"
     ]
    },
    {
     "name": "stdout",
     "output_type": "stream",
     "text": [
      "[13716.0]\n",
      "[10668.0]\n"
     ]
    },
    {
     "name": "stderr",
     "output_type": "stream",
     "text": [
      " 61%|██████▏   | 117/191 [00:05<00:03, 23.37it/s]"
     ]
    },
    {
     "name": "stdout",
     "output_type": "stream",
     "text": [
      "[12634.0]\n",
      "[4950.0]\n"
     ]
    },
    {
     "name": "stderr",
     "output_type": "stream",
     "text": [
      " 64%|██████▍   | 123/191 [00:05<00:02, 23.29it/s]"
     ]
    },
    {
     "name": "stdout",
     "output_type": "stream",
     "text": [
      "[11278.0]\n"
     ]
    },
    {
     "name": "stderr",
     "output_type": "stream",
     "text": [
      " 72%|███████▏  | 138/191 [00:05<00:02, 23.30it/s]"
     ]
    },
    {
     "name": "stdout",
     "output_type": "stream",
     "text": [
      "[15545.0]\n",
      "[12500.0]\n",
      "[12500.0]\n"
     ]
    },
    {
     "name": "stderr",
     "output_type": "stream",
     "text": [
      " 75%|███████▌  | 144/191 [00:06<00:02, 23.36it/s]"
     ]
    },
    {
     "name": "stdout",
     "output_type": "stream",
     "text": [
      "[12802.0]\n",
      "[15545.0]\n",
      "[15545.0]\n"
     ]
    },
    {
     "name": "stderr",
     "output_type": "stream",
     "text": [
      " 82%|████████▏ | 156/191 [00:06<00:01, 23.20it/s]"
     ]
    },
    {
     "name": "stdout",
     "output_type": "stream",
     "text": [
      "[13716.0]\n",
      "[13716.0]\n"
     ]
    },
    {
     "name": "stderr",
     "output_type": "stream",
     "text": [
      " 86%|████████▋ | 165/191 [00:07<00:01, 23.29it/s]"
     ]
    },
    {
     "name": "stdout",
     "output_type": "stream",
     "text": [
      "[13137.0]\n",
      "[5300.0]\n",
      "[13716.0]\n"
     ]
    },
    {
     "name": "stderr",
     "output_type": "stream",
     "text": [
      " 90%|████████▉ | 171/191 [00:07<00:00, 23.35it/s]"
     ]
    },
    {
     "name": "stdout",
     "output_type": "stream",
     "text": [
      "[4400.0]\n",
      "[10668.0]\n"
     ]
    },
    {
     "name": "stderr",
     "output_type": "stream",
     "text": [
      " 94%|█████████▍| 180/191 [00:07<00:00, 23.27it/s]"
     ]
    },
    {
     "name": "stdout",
     "output_type": "stream",
     "text": [
      "[13716.0]\n"
     ]
    },
    {
     "name": "stderr",
     "output_type": "stream",
     "text": [
      "100%|██████████| 191/191 [00:08<00:00, 23.31it/s]"
     ]
    },
    {
     "name": "stdout",
     "output_type": "stream",
     "text": [
      "[12497.0]\n",
      "[12497.0]\n",
      "[10668.0]\n"
     ]
    },
    {
     "name": "stderr",
     "output_type": "stream",
     "text": [
      "\n"
     ]
    }
   ],
   "execution_count": 9
  },
  {
   "metadata": {
    "ExecuteTime": {
     "end_time": "2024-11-21T13:59:24.645910Z",
     "start_time": "2024-11-21T13:57:38.239057Z"
    }
   },
   "cell_type": "code",
   "source": [
    "Q_template = \"Fleet information of {supplier_name}？\"\n",
    "SQL_template = '''SELECT aircraft_details.aircraft_model_name FROM aircraft_details JOIN supplier_details ON aircraft_details.supplier_id = supplier_details.supplier_id WHERE supplier_details.supplier_name = \"{}\";'''\n",
    "\n",
    "# 初始化数据集\n",
    "dataset = []\n",
    "# 构建问题和答案的字典\n",
    "for supplier_name in tqdm(supplier_names):\n",
    "    Q = Q_template.format(supplier_name=supplier_name)\n",
    "    SQL_query = SQL_template.format(supplier_name)\n",
    "    cursor.execute(SQL_query)\n",
    "    try:\n",
    "        A = pd.DataFrame(cursor.fetchall())[0].tolist()\n",
    "        if A:\n",
    "            dataset.append({\"Q\": Q, \"A\": A, \"SQL\": SQL_query})\n",
    "    except:\n",
    "        print(A)\n",
    "        # print(SQL)\n",
    "        continue\n",
    "\n",
    "# 保存到文件\n",
    "with open('synthetic_data/1-25.json', \"w\", encoding=\"utf-8\") as f:\n",
    "    json.dump(dataset, f, ensure_ascii=False, indent=4)"
   ],
   "outputs": [
    {
     "name": "stderr",
     "output_type": "stream",
     "text": [
      " 99%|█████████▉| 900/909 [01:45<00:01,  8.66it/s]"
     ]
    },
    {
     "name": "stdout",
     "output_type": "stream",
     "text": [
      "['Gulfstream G550']\n",
      "['Gulfstream G550']\n"
     ]
    },
    {
     "name": "stderr",
     "output_type": "stream",
     "text": [
      " 99%|█████████▉| 902/909 [01:45<00:00,  8.57it/s]"
     ]
    },
    {
     "name": "stdout",
     "output_type": "stream",
     "text": [
      "['Gulfstream G550']\n"
     ]
    },
    {
     "name": "stderr",
     "output_type": "stream",
     "text": [
      " 99%|█████████▉| 904/909 [01:45<00:00,  8.60it/s]"
     ]
    },
    {
     "name": "stdout",
     "output_type": "stream",
     "text": [
      "['Bombardier Global 5000']\n",
      "['Bombardier Global 5000']\n"
     ]
    },
    {
     "name": "stderr",
     "output_type": "stream",
     "text": [
      "100%|█████████▉| 906/909 [01:46<00:00,  8.58it/s]"
     ]
    },
    {
     "name": "stdout",
     "output_type": "stream",
     "text": [
      "['Bombardier Global 5000']\n"
     ]
    },
    {
     "name": "stderr",
     "output_type": "stream",
     "text": [
      "100%|█████████▉| 908/909 [01:46<00:00,  8.56it/s]"
     ]
    },
    {
     "name": "stdout",
     "output_type": "stream",
     "text": [
      "['Bombardier Global Express XRS']\n",
      "['Bombardier Global Express XRS']\n"
     ]
    },
    {
     "name": "stderr",
     "output_type": "stream",
     "text": [
      "100%|██████████| 909/909 [01:46<00:00,  8.54it/s]"
     ]
    },
    {
     "name": "stdout",
     "output_type": "stream",
     "text": [
      "['Bombardier Global Express XRS']\n"
     ]
    },
    {
     "name": "stderr",
     "output_type": "stream",
     "text": [
      "\n"
     ]
    }
   ],
   "execution_count": 17
  },
  {
   "cell_type": "code",
   "metadata": {},
   "source": [
    "# 问题和SQL查询的模板\n",
    "Q_template = \"{airport_name}机场的四字码是什么？\"\n",
    "SQL_template = '''SELECT icao_code FROM airport_fbo_details WHERE airport_name = \"{}\";'''\n",
    "\n",
    "# 一次性查询所有机场的名称和对应的四字码\n",
    "SQL = 'SELECT airport_name, icao_code FROM airport_fbo_details;'\n",
    "cursor.execute(SQL)\n",
    "df = pd.DataFrame(cursor.fetchall(), columns=['airport_name', 'icao_code'])\n",
    "\n",
    "# 初始化数据集\n",
    "dataset = []\n",
    "\n",
    "# 构建问题和答案的字典\n",
    "for airport_name in tqdm(airport_names):\n",
    "    try:\n",
    "        A = df[df['airport_name'] == airport_name]['icao_code'].tolist()[0]\n",
    "        if A:\n",
    "            Q = Q_template.format(airport_name=airport_name)\n",
    "            SQL_query = SQL_template.format(airport_name)\n",
    "            dataset.append({\"Q\": Q, \"A\": A, \"SQL\": SQL_query})\n",
    "    except Exception as e:\n",
    "        print(f\"Error processing airport: {airport_name}, Error: {e}\")\n",
    "        continue\n",
    "\n",
    "# 保存到文件\n",
    "with open('synthetic_data/1-10.json', \"w\", encoding=\"utf-8\") as f:\n",
    "    json.dump(dataset, f, ensure_ascii=False, indent=4)\n",
    "\n",
    "print(f\"Data successfully saved to {output_path}\")\n"
   ],
   "outputs": [],
   "execution_count": null
  },
  {
   "cell_type": "code",
   "metadata": {},
   "source": [
    "# 问题和SQL查询的模板\n",
    "Q_template = \"{airport_name}机场在哪个国家哪个城市？\"\n",
    "SQL_template = '''SELECT country_name, city_name FROM airport_fbo_details WHERE airport_name = \"{}\";'''\n",
    "\n",
    "# 一次性查询所有机场的名称、国家和城市\n",
    "SQL = 'SELECT airport_name, country_name, city_name FROM airport_fbo_details;'\n",
    "cursor.execute(SQL)\n",
    "df = pd.DataFrame(cursor.fetchall(), columns=['airport_name', 'country_name', 'city_name'])\n",
    "\n",
    "# 初始化数据集\n",
    "dataset = []\n",
    "\n",
    "# 构建问题和答案的字典\n",
    "for airport_name in tqdm(airport_names):\n",
    "    try:\n",
    "        # 查找该机场的国家和城市信息\n",
    "        result = df[df['airport_name'] == airport_name][['country_name', 'city_name']].values\n",
    "        if result.size > 0:\n",
    "            country_name, city_name = result[0]\n",
    "            Q = Q_template.format(airport_name=airport_name)\n",
    "            SQL_query = SQL_template.format(airport_name)\n",
    "            A = f\"{city_name}, {country_name}\"\n",
    "            dataset.append({\"Q\": Q, \"A\": A, \"SQL\": SQL_query})\n",
    "    except Exception as e:\n",
    "        print(f\"Error processing airport: {airport_name}, Error: {e}\")\n",
    "        continue\n",
    "\n",
    "# 保存到文件\n",
    "output_path = 'synthetic_data/1-12.json'\n",
    "with open(output_path, \"w\", encoding=\"utf-8\") as f:\n",
    "    json.dump(dataset, f, ensure_ascii=False, indent=4)\n",
    "\n",
    "print(f\"Data successfully saved to {output_path}\")\n"
   ],
   "outputs": [],
   "execution_count": null
  },
  {
   "cell_type": "code",
   "metadata": {},
   "source": [
    "# 问题和 SQL 查询的模板\n",
    "Q_template = \"{airport_name}机场的跑道数量是多少？\"\n",
    "SQL_template = '''SELECT runway_num FROM airport_fbo_details WHERE airport_name = \"{}\";'''\n",
    "\n",
    "# 一次性查询所有机场名称和对应的跑道数量\n",
    "SQL = 'SELECT airport_name, runway_num FROM airport_fbo_details;'\n",
    "cursor.execute(SQL)\n",
    "df = pd.DataFrame(cursor.fetchall(), columns=['airport_name', 'runway_num'])\n",
    "\n",
    "# 初始化数据集\n",
    "dataset = []\n",
    "\n",
    "# 构建问题和答案的字典\n",
    "for airport_name in tqdm(airport_names):\n",
    "    try:\n",
    "        # 查找该机场的跑道数量\n",
    "        result = df[df['airport_name'] == airport_name]['runway_num'].tolist()\n",
    "        if result:\n",
    "            runway_num = result[0]\n",
    "            Q = Q_template.format(airport_name=airport_name)\n",
    "            SQL_query = SQL_template.format(airport_name)\n",
    "            A = int(runway_num)\n",
    "            if A:\n",
    "                dataset.append({\"Q\": Q, \"A\": A, \"SQL\": SQL_query})\n",
    "            else:\n",
    "                print(f\"Airport: {airport_name} has no runway number available\")\n",
    "    except Exception as e:\n",
    "        print(f\"Error processing airport: {airport_name}, Error: {e}\")\n",
    "        continue\n",
    "\n",
    "# 保存到文件\n",
    "output_path = 'synthetic_data/1-11.json'\n",
    "with open(output_path, \"w\", encoding=\"utf-8\") as f:\n",
    "    json.dump(dataset, f, ensure_ascii=False, indent=4)\n",
    "\n",
    "print(f\"Data successfully saved to {output_path}\")"
   ],
   "outputs": [],
   "execution_count": null
  },
  {
   "metadata": {},
   "cell_type": "code",
   "source": [
    "SQL = 'SELECT DISTINCT city_name, airport_name, icao_code FROM airport_fbo_details;'\n",
    "cursor.execute(SQL)\n",
    "df = pd.DataFrame(cursor.fetchall(), columns=['city_name', 'airport_name', 'icao_code'])\n",
    "Q_template = \"停场在{airport_name}的所有航司有哪些？\"\n",
    "SQL_template = \\\n",
    "'''SELECT\n",
    "    DISTINCT supplier_name\n",
    "FROM\n",
    "    zts_plane_status\n",
    "WHERE\n",
    "    status = 0\n",
    "    AND supplier_name IS NOT NULL\n",
    "    AND pure_reg IN (\n",
    "        SELECT\n",
    "            LOWER(REPLACE(REPLACE(registration, ' ', ''), '-', ''))\n",
    "        FROM\n",
    "            dc_aircraft\n",
    "        WHERE\n",
    "            delete_tag = 0\n",
    "    )\n",
    "    AND arr_icao = \"{}\" COLLATE utf8mb4_general_ci;'''\n",
    "\n",
    "dataset = []\n",
    "\n",
    "for airport_name in tqdm(airport_names):\n",
    "    try:\n",
    "        icao_l = df[df['airport_name'] == airport_name]['icao_code'].tolist()\n",
    "        if len(icao_l)>0:\n",
    "            icao_code = icao_l[0]\n",
    "        else:\n",
    "            continue\n",
    "        Q = Q_template.replace(\"{airport_name}\", airport_name)\n",
    "        SQL = SQL_template.format(icao_code)\n",
    "        cursor1.execute(SQL)\n",
    "        if cursor1.fetchone() is not None:\n",
    "            A = pd.DataFrame(cursor1.fetchall())[0].tolist()\n",
    "            dataset.append({\"Q\": Q, \"A\": A, \"SQL\": SQL})\n",
    "            print(len(dataset))\n",
    "    except:\n",
    "        # print(airport_name)\n",
    "        # print(A)\n",
    "        # print(SQL)\n",
    "        continue\n",
    "\n",
    "with open(\"synthetic_data/1-13.json\", \"w\") as f:\n",
    "    json.dump(dataset, f, ensure_ascii=False, indent=4)"
   ],
   "outputs": [],
   "execution_count": null
  },
  {
   "cell_type": "code",
   "metadata": {},
   "source": [
    "# 问题和 SQL 查询的模板\n",
    "Q_template = \"{supplier_name}航司的官网链接是什么？\"\n",
    "SQL_template = '''SELECT supplier_website FROM supplier_details WHERE supplier_name = \"{}\";'''\n",
    "\n",
    "# 一次性查询所有供应商的名称和对应的官网链接\n",
    "SQL = 'SELECT supplier_name, supplier_website FROM supplier_details;'\n",
    "cursor.execute(SQL)\n",
    "df = pd.DataFrame(cursor.fetchall(), columns=['supplier_name', 'supplier_website'])\n",
    "\n",
    "# 初始化数据集\n",
    "dataset = []\n",
    "\n",
    "# 构建问题和答案的字典\n",
    "for supplier_name in tqdm(supplier_names):\n",
    "    try:\n",
    "        # 查找该供应商的官网链接\n",
    "        result = df[df['supplier_name'] == supplier_name]['supplier_website'].tolist()\n",
    "        if result:\n",
    "            website = result[0]\n",
    "            Q = Q_template.format(supplier_name=supplier_name)\n",
    "            SQL_query = SQL_template.format(supplier_name)\n",
    "            A = website\n",
    "            if A:\n",
    "                dataset.append({\"Q\": Q, \"A\": A, \"SQL\": SQL_query})\n",
    "            else:\n",
    "                print(f\"Supplier: {supplier_name} has no website\")\n",
    "    except Exception as e:\n",
    "        print(f\"Error processing supplier: {supplier_name}, Error: {e}\")\n",
    "        continue\n",
    "\n",
    "# 保存到文件\n",
    "output_path = 'synthetic_data/1-16.json'\n",
    "with open(output_path, \"w\", encoding=\"utf-8\") as f:\n",
    "    json.dump(dataset, f, ensure_ascii=False, indent=4)\n",
    "\n",
    "print(f\"Data successfully saved to {output_path}\")\n"
   ],
   "outputs": [],
   "execution_count": null
  },
  {
   "cell_type": "code",
   "metadata": {},
   "source": [
    "# 问题和 SQL 查询的模板\n",
    "Q_template = \"{aircraft_model_name}机型的最大飞行距离是多少？\"\n",
    "SQL_template = '''SELECT max_range FROM aircraft_details WHERE aircraft_model_name = \"{}\";'''\n",
    "\n",
    "# 一次性查询所有飞机型号的名称和对应的最大飞行距离\n",
    "SQL = 'SELECT aircraft_model_name, max_range FROM aircraft_details;'\n",
    "cursor.execute(SQL)\n",
    "df = pd.DataFrame(cursor.fetchall(), columns=['aircraft_model_name', 'max_range'])\n",
    "\n",
    "# 初始化数据集\n",
    "dataset = []\n",
    "\n",
    "# 构建问题和答案的字典\n",
    "for aircraft_model_name in tqdm(aircraft_model_names):\n",
    "    try:\n",
    "        # 查找该飞机型号的最大飞行距离\n",
    "        result = df[df['aircraft_model_name'] == aircraft_model_name]['max_range'].tolist()\n",
    "        if result:\n",
    "            max_range = result[0]\n",
    "            Q = Q_template.format(aircraft_model_name=aircraft_model_name)\n",
    "            SQL_query = SQL_template.format(aircraft_model_name)\n",
    "            if max_range:\n",
    "                A = f\"{int(max_range)}公里\"\n",
    "                dataset.append({\"Q\": Q, \"A\": A, \"SQL\": SQL_query})\n",
    "            else:\n",
    "                print(f\"Aircraft model: {aircraft_model_name} has no max range\")\n",
    "    except Exception as e:\n",
    "        print(f\"Error processing aircraft model: {aircraft_model_name}, Error: {e}\")\n",
    "        continue\n",
    "\n",
    "# 保存到文件\n",
    "output_path = 'synthetic_data/1-17.json'\n",
    "with open(output_path, \"w\", encoding=\"utf-8\") as f:\n",
    "    json.dump(dataset, f, ensure_ascii=False, indent=4)\n",
    "\n",
    "print(f\"Data successfully saved to {output_path}\")\n"
   ],
   "outputs": [],
   "execution_count": null
  },
  {
   "cell_type": "code",
   "metadata": {},
   "source": [
    "# 问题和 SQL 查询的模板\n",
    "Q_template = \"{aircraft_model_name}机型的座位数是多少？\"\n",
    "SQL_template = '''SELECT seat_num FROM aircraft_details WHERE aircraft_model_name = \"{}\";'''\n",
    "\n",
    "# 一次性查询所有飞机型号的名称和对应的座位数\n",
    "SQL = 'SELECT aircraft_model_name, seat_num FROM aircraft_details;'\n",
    "cursor.execute(SQL)\n",
    "df = pd.DataFrame(cursor.fetchall(), columns=['aircraft_model_name', 'seat_num'])\n",
    "\n",
    "# 初始化数据集\n",
    "dataset = []\n",
    "\n",
    "# 构建问题和答案的字典\n",
    "for aircraft_model_name in tqdm(aircraft_model_names):\n",
    "    try:\n",
    "        # 查找该飞机型号的座位数\n",
    "        result = df[df['aircraft_model_name'] == aircraft_model_name]['seat_num'].tolist()\n",
    "        if result:\n",
    "            seat_num = result[0]\n",
    "            Q = Q_template.format(aircraft_model_name=aircraft_model_name)\n",
    "            SQL_query = SQL_template.format(aircraft_model_name)\n",
    "            A = seat_num\n",
    "            if A:\n",
    "                dataset.append({\"Q\": Q, \"A\": A, \"SQL\": SQL_query})\n",
    "            else:\n",
    "                print(f\"Aircraft model: {aircraft_model_name} has no seat number\")\n",
    "    except Exception as e:\n",
    "        print(f\"Error processing aircraft model: {aircraft_model_name}, Error: {e}\")\n",
    "        continue\n",
    "\n",
    "# 保存到文件\n",
    "output_path = 'synthetic_data/1-18.json'\n",
    "with open(output_path, \"w\", encoding=\"utf-8\") as f:\n",
    "    json.dump(dataset, f, ensure_ascii=False, indent=4)\n",
    "\n",
    "print(f\"Data successfully saved to {output_path}\")\n"
   ],
   "outputs": [],
   "execution_count": null
  },
  {
   "cell_type": "code",
   "metadata": {},
   "source": [
    "# 问题和 SQL 查询的模板\n",
    "Q_template = \"{aircraft_model_name}机型的机身长度是多少？\"\n",
    "SQL_template = '''SELECT aircraft_length FROM aircraft_details WHERE aircraft_model_name = \"{}\";'''\n",
    "\n",
    "# 一次性查询所有飞机型号的名称和对应的机身长度\n",
    "SQL = 'SELECT aircraft_model_name, aircraft_length FROM aircraft_details;'\n",
    "cursor.execute(SQL)\n",
    "df = pd.DataFrame(cursor.fetchall(), columns=['aircraft_model_name', 'aircraft_length'])\n",
    "\n",
    "# 初始化数据集\n",
    "dataset = []\n",
    "\n",
    "# 构建问题和答案的字典\n",
    "for aircraft_model_name in tqdm(aircraft_model_names):\n",
    "    try:\n",
    "        # 查找该飞机型号的机身长度\n",
    "        result = df[df['aircraft_model_name'] == aircraft_model_name]['aircraft_length'].tolist()\n",
    "        if result:\n",
    "            aircraft_length = result[0]\n",
    "            Q = Q_template.format(aircraft_model_name=aircraft_model_name)\n",
    "            SQL_query = SQL_template.format(aircraft_model_name)\n",
    "            if aircraft_length:\n",
    "                A = f\"{aircraft_length} meters\"  # 假设机身长度的单位为“meters”\n",
    "                dataset.append({\"Q\": Q, \"A\": A, \"SQL\": SQL_query})\n",
    "            else:\n",
    "                print(f\"Aircraft model: {aircraft_model_name} has no aircraft length\")\n",
    "    except Exception as e:\n",
    "        print(f\"Error processing aircraft model: {aircraft_model_name}, Error: {e}\")\n",
    "        continue\n",
    "\n",
    "# 保存到文件\n",
    "output_path = 'synthetic_data/1-19.json'\n",
    "with open(output_path, \"w\", encoding=\"utf-8\") as f:\n",
    "    json.dump(dataset, f, ensure_ascii=False, indent=4)\n",
    "\n",
    "print(f\"Data successfully saved to {output_path}\")\n"
   ],
   "outputs": [],
   "execution_count": null
  },
  {
   "cell_type": "code",
   "metadata": {},
   "source": [
    "# 问题和 SQL 查询的模板\n",
    "Q_template = \"注册号为{aircraft_registration}的飞机的制造年份是什么？\"\n",
    "SQL_template = '''SELECT make_year FROM aircraft_details WHERE registration = \"{}\";'''\n",
    "\n",
    "# 一次性查询所有飞机注册号和对应的制造年份\n",
    "SQL = 'SELECT registration, make_year FROM aircraft_details;'\n",
    "cursor.execute(SQL)\n",
    "df = pd.DataFrame(cursor.fetchall(), columns=['registration', 'make_year'])\n",
    "\n",
    "# 初始化数据集\n",
    "dataset = []\n",
    "\n",
    "# 构建问题和答案的字典\n",
    "for aircraft_registration in tqdm(aircraft_registrations):\n",
    "    try:\n",
    "        # 查找该飞机注册号的制造年份\n",
    "        result = df[df['registration'] == aircraft_registration]['make_year'].tolist()\n",
    "        if result:\n",
    "            make_year = result[0]\n",
    "            Q = Q_template.format(aircraft_registration=aircraft_registration)\n",
    "            SQL_query = SQL_template.format(aircraft_registration)\n",
    "            if make_year:\n",
    "                A = f\"{int(make_year)}年\"\n",
    "                dataset.append({\"Q\": Q, \"A\": A, \"SQL\": SQL_query})\n",
    "            else:\n",
    "                print(f\"Aircraft registration: {aircraft_registration} has no make year\")\n",
    "    except Exception as e:\n",
    "        print(f\"Error processing registration: {aircraft_registration}, Error: {e}\")\n",
    "        continue\n",
    "\n",
    "# 保存到文件\n",
    "output_path = 'synthetic_data/1-22.json'\n",
    "with open(output_path, \"w\", encoding=\"utf-8\") as f:\n",
    "    json.dump(dataset, f, ensure_ascii=False, indent=4)\n",
    "\n",
    "print(f\"Data successfully saved to {output_path}\")\n"
   ],
   "outputs": [],
   "execution_count": null
  },
  {
   "cell_type": "code",
   "metadata": {},
   "source": [
    "# 问题和 SQL 查询的模板\n",
    "Q_template = \"{aircraft_model_name}机型属于哪种机型类型（如远程、小飞机）？\"\n",
    "SQL_template = '''SELECT aircraft_type FROM aircraft_details WHERE aircraft_model_name = \"{}\";'''\n",
    "\n",
    "# 一次性查询所有飞机型号的名称和对应的机型类型\n",
    "SQL = 'SELECT aircraft_model_name, aircraft_type FROM aircraft_details;'\n",
    "cursor.execute(SQL)\n",
    "df = pd.DataFrame(cursor.fetchall(), columns=['aircraft_model_name', 'aircraft_type'])\n",
    "\n",
    "# 初始化数据集\n",
    "dataset = []\n",
    "\n",
    "# 构建问题和答案的字典\n",
    "for aircraft_model_name in tqdm(aircraft_model_names):\n",
    "    try:\n",
    "        # 查找该飞机型号的机型类型\n",
    "        result = df[df['aircraft_model_name'] == aircraft_model_name]['aircraft_type'].tolist()\n",
    "        if result:\n",
    "            aircraft_type = result[0]\n",
    "            Q = Q_template.format(aircraft_model_name=aircraft_model_name)\n",
    "            SQL_query = SQL_template.format(aircraft_model_name)\n",
    "            A = aircraft_type\n",
    "            if A:\n",
    "                dataset.append({\"Q\": Q, \"A\": A, \"SQL\": SQL_query})\n",
    "            else:\n",
    "                print(f\"Aircraft model: {aircraft_model_name} has no aircraft type\")\n",
    "    except Exception as e:\n",
    "        print(f\"Error processing aircraft model: {aircraft_model_name}, Error: {e}\")\n",
    "        continue\n",
    "\n",
    "# 保存到文件\n",
    "output_path = 'synthetic_data/1-16.json'\n",
    "with open(output_path, \"w\", encoding=\"utf-8\") as f:\n",
    "    json.dump(dataset, f, ensure_ascii=False, indent=4)\n",
    "\n",
    "print(f\"Data successfully saved to {output_path}\")\n"
   ],
   "outputs": [],
   "execution_count": null
  },
  {
   "cell_type": "code",
   "metadata": {},
   "source": [
    "dataset = {}\n",
    "\n",
    "for Q_template in Q_templates:\n",
    "    Q = Q_template.replace(\"{aircraft_registration}\", aircraft_registration)\n",
    "    SQL = SQL_template.format(aircraft_registration)\n",
    "    cursor.execute(SQL)\n",
    "    A = pd.DataFrame(cursor.fetchall())[0].tolist()\n",
    "    if A:\n",
    "        dataset.append({\"Q\": Q, \"A\": A, \"SQL\": SQL})"
   ],
   "outputs": [],
   "execution_count": null
  }
 ],
 "metadata": {
  "kernelspec": {
   "display_name": "airline_agent",
   "language": "python",
   "name": "python3"
  },
  "language_info": {
   "codemirror_mode": {
    "name": "ipython",
    "version": 3
   },
   "file_extension": ".py",
   "mimetype": "text/x-python",
   "name": "python",
   "nbconvert_exporter": "python",
   "pygments_lexer": "ipython3",
   "version": "3.13.0"
  }
 },
 "nbformat": 4,
 "nbformat_minor": 2
}
