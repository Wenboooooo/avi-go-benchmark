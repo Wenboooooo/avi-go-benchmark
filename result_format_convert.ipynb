{
 "cells": [
  {
   "cell_type": "code",
   "execution_count": 11,
   "metadata": {},
   "outputs": [],
   "source": [
    "import os\n",
    "import json\n",
    "import pandas as pd\n",
    "from os import path as osp\n",
    "from utils import gpt4o_generate, LLM_judge\n",
    "\n",
    "data_dir = \"judge_result\"\n",
    "output_dir = \"human_evaluation\"\n",
    "\n",
    "test_files = os.listdir(data_dir)"
   ]
  },
  {
   "cell_type": "code",
   "execution_count": 9,
   "metadata": {},
   "outputs": [],
   "source": [
    "data = json.load(open(\"judge_result/1-5.json\"))[:50]\n",
    "df = pd.DataFrame(data)\n",
    "df['is_correct(human_judge)'] = [None] * len(df)"
   ]
  },
  {
   "cell_type": "code",
   "execution_count": 10,
   "metadata": {},
   "outputs": [],
   "source": [
    "df.to_excel(\"judge_result/1-5.xlsx\", index=False)"
   ]
  },
  {
   "cell_type": "code",
   "execution_count": 12,
   "metadata": {},
   "outputs": [],
   "source": [
    "for file in test_files:\n",
    "    data = json.load(open(osp.join(data_dir, file)))[:50]\n",
    "    df = pd.DataFrame(data)\n",
    "    df['is_correct(human_judge)'] = [None] * len(df)\n",
    "    df.to_excel(osp.join(output_dir, file.replace(\".json\", \".xlsx\")), index=False)"
   ]
  }
 ],
 "metadata": {
  "kernelspec": {
   "display_name": "avi-go-base",
   "language": "python",
   "name": "python3"
  },
  "language_info": {
   "codemirror_mode": {
    "name": "ipython",
    "version": 3
   },
   "file_extension": ".py",
   "mimetype": "text/x-python",
   "name": "python",
   "nbconvert_exporter": "python",
   "pygments_lexer": "ipython3",
   "version": "3.13.0"
  }
 },
 "nbformat": 4,
 "nbformat_minor": 2
}
